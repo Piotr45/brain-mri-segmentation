{
 "cells": [
  {
   "cell_type": "markdown",
   "metadata": {},
   "source": [
    "# Brain MRI Segmentation\n",
    "\n",
    "Project summary."
   ]
  },
  {
   "cell_type": "code",
   "execution_count": 5,
   "metadata": {},
   "outputs": [],
   "source": [
    "import os\n",
    "\n",
    "import tensorflow as tf\n",
    "\n",
    "from utils.nn import dice_coef, dice_coef_loss, iou"
   ]
  },
  {
   "cell_type": "code",
   "execution_count": 6,
   "metadata": {},
   "outputs": [],
   "source": [
    "MODELS_DIR_PATH = \"../models\"\n",
    "\n",
    "def load_model(model_name: str) -> tf.keras.Model:\n",
    "    return tf.keras.models.load_model(os.path.join(MODELS_DIR_PATH, model_name), custom_objects={'dice_coef': dice_coef, 'dice_coef_loss': dice_coef_loss, 'iou': iou})"
   ]
  },
  {
   "cell_type": "code",
   "execution_count": 8,
   "metadata": {},
   "outputs": [],
   "source": [
    "model_0 = load_model(\"model_0\")\n",
    "model_1 = load_model(\"model_1\")\n",
    "model_2 = load_model(\"model_2\")"
   ]
  },
  {
   "cell_type": "code",
   "execution_count": null,
   "metadata": {},
   "outputs": [],
   "source": []
  }
 ],
 "metadata": {
  "kernelspec": {
   "display_name": ".venv",
   "language": "python",
   "name": "python3"
  },
  "language_info": {
   "codemirror_mode": {
    "name": "ipython",
    "version": 3
   },
   "file_extension": ".py",
   "mimetype": "text/x-python",
   "name": "python",
   "nbconvert_exporter": "python",
   "pygments_lexer": "ipython3",
   "version": "3.10.10"
  }
 },
 "nbformat": 4,
 "nbformat_minor": 2
}
